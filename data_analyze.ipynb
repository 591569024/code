{
 "cells": [
  {
   "cell_type": "code",
   "execution_count": 1,
   "metadata": {},
   "outputs": [],
   "source": [
    "import pandas as pd\n",
    "import  matplotlib.pyplot as plt\n",
    "import numpy as np"
   ]
  },
  {
   "cell_type": "code",
   "execution_count": 4,
   "metadata": {},
   "outputs": [
    {
     "data": {
      "text/plain": [
       "<bound method NDFrame.head of        0.jpg      norm\n",
       "0      1.jpg      norm\n",
       "1    105.jpg      norm\n",
       "2    125.jpg   defect5\n",
       "3    128.jpg   defect8\n",
       "4    101.jpg  defect10\n",
       "5    103.jpg  defect10\n",
       "6     12.jpg      norm\n",
       "7    115.jpg   defect2\n",
       "8    121.jpg   defect4\n",
       "9    126.jpg   defect7\n",
       "10   142.jpg   defect9\n",
       "11   110.jpg   defect4\n",
       "12   117.jpg  defect11\n",
       "13   109.jpg  defect10\n",
       "14   100.jpg   defect5\n",
       "15   111.jpg   defect5\n",
       "16   123.jpg  defect10\n",
       "17   112.jpg   defect6\n",
       "18   131.jpg      norm\n",
       "19   140.jpg   defect5\n",
       "20   149.jpg   defect7\n",
       "21   116.jpg   defect8\n",
       "22   134.jpg  defect11\n",
       "23    13.jpg      norm\n",
       "24   124.jpg      norm\n",
       "25   129.jpg  defect11\n",
       "26   148.jpg      norm\n",
       "27   120.jpg   defect5\n",
       "28   136.jpg      norm\n",
       "29   145.jpg      norm\n",
       "..       ...       ...\n",
       "409  430.jpg      norm\n",
       "410   91.jpg  defect10\n",
       "411  425.jpg   defect4\n",
       "412   94.jpg      norm\n",
       "413   80.jpg      norm\n",
       "414   85.jpg   defect3\n",
       "415   71.jpg   defect4\n",
       "416   45.jpg  defect11\n",
       "417    7.jpg  defect10\n",
       "418  433.jpg   defect6\n",
       "419  434.jpg   defect7\n",
       "420   49.jpg  defect10\n",
       "421   98.jpg      norm\n",
       "422   69.jpg   defect6\n",
       "423   67.jpg  defect11\n",
       "424  423.jpg  defect11\n",
       "425   99.jpg   defect5\n",
       "426    6.jpg   defect9\n",
       "427   48.jpg      norm\n",
       "428  431.jpg   defect5\n",
       "429   89.jpg      norm\n",
       "430   97.jpg      norm\n",
       "431   95.jpg   defect7\n",
       "432  432.jpg   defect5\n",
       "433  422.jpg  defect11\n",
       "434  435.jpg   defect8\n",
       "435   43.jpg  defect10\n",
       "436   81.jpg   defect7\n",
       "437   93.jpg      norm\n",
       "438   84.jpg   defect4\n",
       "\n",
       "[439 rows x 2 columns]>"
      ]
     },
     "execution_count": 4,
     "metadata": {},
     "output_type": "execute_result"
    }
   ],
   "source": [
    "df = pd.read_csv('./out_put.csv')\n",
    "df.head"
   ]
  },
  {
   "cell_type": "code",
   "execution_count": 5,
   "metadata": {},
   "outputs": [
    {
     "data": {
      "image/png": "[encoded data removed]",
      "text/plain": [
       "<Figure size 432x288 with 1 Axes>"
      ]
     },
     "metadata": {},
     "output_type": "display_data"
    }
   ],
   "source": [
    "\n",
    "df['norm'].value_counts().plot.bar()\n",
    "plt.show()"
   ]
  },
  {
   "cell_type": "code",
   "execution_count": 6,
   "metadata": {},
   "outputs": [
    {
     "name": "stdout",
     "output_type": "stream",
     "text": [
      "norm        124\n",
      "defect5      67\n",
      "defect10     57\n",
      "defect11     37\n",
      "defect2      36\n",
      "defect4      30\n",
      "defect8      24\n",
      "defect6      20\n",
      "defect7      14\n",
      "defect3      13\n",
      "defect9      10\n",
      "defect1       7\n",
      "Name: norm, dtype: int64\n"
     ]
    }
   ],
   "source": [
    "count = df['norm'].value_counts()\n",
    "print(count)"
   ]
  },
  {
   "cell_type": "code",
   "execution_count": 6,
   "metadata": {},
   "outputs": [
    {
     "name": "stdout",
     "output_type": "stream",
     "text": [
      "[[ 1.          0.03831041  0.13654224  0.04616896  0.08840864  0.24361493\n",
      "   0.07563851  0.05304519  0.04223969  0.03438114  0.20530452]\n",
      " [26.1025641   1.          3.56410256  1.20512821  2.30769231  6.35897436\n",
      "   1.97435897  1.38461538  1.1025641   0.8974359   5.35897436]\n",
      " [ 7.32374101  0.28057554  1.          0.3381295   0.64748201  1.78417266\n",
      "   0.55395683  0.38848921  0.30935252  0.25179856  1.50359712]\n",
      " [21.65957447  0.82978723  2.95744681  1.          1.91489362  5.27659574\n",
      "   1.63829787  1.14893617  0.91489362  0.74468085  4.44680851]\n",
      " [11.31111111  0.43333333  1.54444444  0.52222222  1.          2.75555556\n",
      "   0.85555556  0.6         0.47777778  0.38888889  2.32222222]\n",
      " [ 4.10483871  0.15725806  0.56048387  0.18951613  0.36290323  1.\n",
      "   0.31048387  0.21774194  0.1733871   0.14112903  0.84274194]\n",
      " [13.22077922  0.50649351  1.80519481  0.61038961  1.16883117  3.22077922\n",
      "   1.          0.7012987   0.55844156  0.45454545  2.71428571]\n",
      " [18.85185185  0.72222222  2.57407407  0.87037037  1.66666667  4.59259259\n",
      "   1.42592593  1.          0.7962963   0.64814815  3.87037037]\n",
      " [23.6744186   0.90697674  3.23255814  1.09302326  2.09302326  5.76744186\n",
      "   1.79069767  1.25581395  1.          0.81395349  4.86046512]\n",
      " [29.08571429  1.11428571  3.97142857  1.34285714  2.57142857  7.08571429\n",
      "   2.2         1.54285714  1.22857143  1.          5.97142857]\n",
      " [ 4.8708134   0.18660287  0.66507177  0.22488038  0.43062201  1.18660287\n",
      "   0.36842105  0.25837321  0.20574163  0.16746411  1.        ]]\n"
     ]
    }
   ],
   "source": [
    "\n",
    "data_counts = [1018,39,139,47,90,248,77,54,43,35,209,140]\n",
    "def get_loss_bias():\n",
    "    bias = np.zeros((11,11))\n",
    "    for i in range(11):\n",
    "        for j in range(11):\n",
    "            bias[i][j] = data_counts[j]/data_counts[i]\n",
    "    return bias\n",
    "x = get_loss_bias()\n",
    "print(x)"
   ]
  },
  {
   "cell_type": "code",
   "execution_count": null,
   "metadata": {},
   "outputs": [],
   "source": []
  }
 ],
 "metadata": {
  "kernelspec": {
   "display_name": "Python 3",
   "language": "python",
   "name": "python3"
  },
  "language_info": {
   "codemirror_mode": {
    "name": "ipython",
    "version": 3
   },
   "file_extension": ".py",
   "mimetype": "text/x-python",
   "name": "python",
   "nbconvert_exporter": "python",
   "pygments_lexer": "ipython3",
   "version": "3.6.5"
  }
 },
 "nbformat": 4,
 "nbformat_minor": 2
}
